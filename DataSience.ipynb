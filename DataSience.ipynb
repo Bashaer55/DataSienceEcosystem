{
 "cells": [
  {
   "cell_type": "markdown",
   "id": "a1718857-e868-45cb-9abd-eb71fb4f136b",
   "metadata": {},
   "source": [
    "#Assignment Topic:"
   ]
  },
  {
   "cell_type": "markdown",
   "id": "1a3ee581-5bd8-4d8c-8299-446d3adec88f",
   "metadata": {},
   "source": [
    "###Peer-graded_Assignment_Submitting_My_Work"
   ]
  },
  {
   "cell_type": "markdown",
   "id": "e1605bd5-cd98-4bd2-8058-0c4041952f43",
   "metadata": {},
   "source": [
    "##Data Science Tools and Ecosystem"
   ]
  },
  {
   "cell_type": "markdown",
   "id": "263dc92d-6343-49c3-80e6-eafa407cbfdc",
   "metadata": {},
   "source": [
    "Some of the popular languages that Data Scientists use are:\n",
    "\n",
    "Python.\n",
    "R.\n",
    "SQL.\n",
    "Java.\n",
    "Julia.\n",
    "Scala.\n",
    "C/C++.\n",
    "JavaScript."
   ]
  },
  {
   "cell_type": "markdown",
   "id": "52222d59-b7ad-4dae-8f35-3501be58872c",
   "metadata": {},
   "source": [
    "Some of the commonly used libraries used by Data Scientists include:\n",
    "\n",
    "TensorFlow.\n",
    "NumPy.\n",
    "SciPy.\n",
    "Pandas.\n",
    "Matplotlib.\n",
    "Keras.\n",
    "SciKit-Learn.\n",
    "PyTorch.\n",
    "Scrapy.\n",
    "BeautifulSoup.\n",
    "LightGBM.\n",
    "ELI5.\n",
    "Theano.\n",
    "NuPIC.\n",
    "Ramp.\n",
    "Pipenv.\n",
    "Bob.\n",
    "PyBrain.\n",
    "Caffe2.\n",
    "Chainer."
   ]
  },
  {
   "cell_type": "markdown",
   "id": "1f2f0206-89ac-4ce5-9bb0-245650f28ac2",
   "metadata": {},
   "source": [
    "Data Science Tools\t\t\n",
    "SAS. It is one of those data science tools which are specifically designed for statistical operation\t\t\n",
    "Apache Spark\t\t\n",
    "BigML"
   ]
  },
  {
   "cell_type": "code",
   "execution_count": null,
   "id": "a1a36f1e-c0de-49db-af2e-43377cc59eea",
   "metadata": {},
   "outputs": [],
   "source": []
  },
  {
   "cell_type": "code",
   "execution_count": 1,
   "id": "7bbce69a-4691-4e04-98c3-e45b3924f859",
   "metadata": {},
   "outputs": [
    {
     "data": {
      "text/plain": [
       "24"
      ]
     },
     "execution_count": 1,
     "metadata": {},
     "output_type": "execute_result"
    }
   ],
   "source": [
    "code=compile(\"(5 + 7) * 2\", \"<string>\", \"eval\")\n",
    "eval(code)"
   ]
  },
  {
   "cell_type": "code",
   "execution_count": 2,
   "id": "e27b126a-a798-4c5a-a127-f2c815356a4f",
   "metadata": {},
   "outputs": [],
   "source": [
    "import math"
   ]
  },
  {
   "cell_type": "code",
   "execution_count": 5,
   "id": "61c6254c-1cef-4aa5-8cdd-eb5d121a9f00",
   "metadata": {},
   "outputs": [
    {
     "data": {
      "text/plain": [
       "65449.84694978735"
      ]
     },
     "execution_count": 5,
     "metadata": {},
     "output_type": "execute_result"
    }
   ],
   "source": [
    "code2=compile(\"4 / 3 * math.pi * math.pow(25, 3)\", \"<string>\", \"eval\")\n",
    "eval(code2)"
   ]
  },
  {
   "cell_type": "code",
   "execution_count": 6,
   "id": "81291ca9-1b7d-4969-a5d4-cda21003e149",
   "metadata": {},
   "outputs": [
    {
     "data": {
      "text/plain": [
       "0.5833333333333334"
      ]
     },
     "execution_count": 6,
     "metadata": {},
     "output_type": "execute_result"
    }
   ],
   "source": [
    "(3+4)/12"
   ]
  },
  {
   "cell_type": "code",
   "execution_count": 7,
   "id": "ae4ef5f5-2675-4708-816e-7c6e9401c155",
   "metadata": {},
   "outputs": [
    {
     "name": "stdout",
     "output_type": "stream",
     "text": [
      "0 days, 3.3333333333333335 hours, 0 mins. \n"
     ]
    }
   ],
   "source": [
    "days = 0\n",
    "hours = 0\n",
    "mins = 0\n",
    "\n",
    "time = 200\n",
    "#days = time / 1440\n",
    "leftover_minutes = time % 1440\n",
    "hours = leftover_minutes / 60\n",
    "#mins = time - (days*1440) - (hours*60)\n",
    "Aprint(str(days) + \" days, \" + str(hours) + \" hours, \" + str(mins) +  \" mins. \")"
   ]
  },
  {
   "cell_type": "markdown",
   "id": "c1f5914c-9cbd-4b59-b99f-1673085fe46d",
   "metadata": {},
   "source": [
    "#Author "
   ]
  },
  {
   "cell_type": "markdown",
   "id": "c2cb2fab-289e-422f-af16-ff29d4cec1f4",
   "metadata": {},
   "source": [
    "BASHAYER"
   ]
  },
  {
   "cell_type": "code",
   "execution_count": null,
   "id": "f55654a0-c494-48d3-8b8c-9a7b783908d1",
   "metadata": {},
   "outputs": [],
   "source": []
  }
 ],
 "metadata": {
  "kernelspec": {
   "display_name": "Python 3 (ipykernel)",
   "language": "python",
   "name": "python3"
  },
  "language_info": {
   "codemirror_mode": {
    "name": "ipython",
    "version": 3
   },
   "file_extension": ".py",
   "mimetype": "text/x-python",
   "name": "python",
   "nbconvert_exporter": "python",
   "pygments_lexer": "ipython3",
   "version": "3.11.7"
  }
 },
 "nbformat": 4,
 "nbformat_minor": 5
}
